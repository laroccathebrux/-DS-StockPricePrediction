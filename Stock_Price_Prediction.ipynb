{
  "nbformat": 4,
  "nbformat_minor": 0,
  "metadata": {
    "colab": {
      "name": "Stock Price Prediction.ipynb",
      "provenance": [],
      "authorship_tag": "ABX9TyNkpq79tEX+rCgygsgQuu1o",
      "include_colab_link": true
    },
    "kernelspec": {
      "name": "python3",
      "display_name": "Python 3"
    }
  },
  "cells": [
    {
      "cell_type": "markdown",
      "metadata": {
        "id": "view-in-github",
        "colab_type": "text"
      },
      "source": [
        "<a href=\"https://colab.research.google.com/github/laroccathebrux/-DS-StockPricePrediction/blob/main/Stock_Price_Prediction.ipynb\" target=\"_parent\"><img src=\"https://colab.research.google.com/assets/colab-badge.svg\" alt=\"Open In Colab\"/></a>"
      ]
    },
    {
      "cell_type": "code",
      "metadata": {
        "id": "OftKjjx8Uo8Y"
      },
      "source": [
        "import math\n",
        "import pandas_datareader as web\n",
        "import numpy as np\n",
        "import pandas as pd\n",
        "from sklearn.preprocessing import MinMaxScaler\n",
        "from keras.models import Sequential\n",
        "from keras.layers import Dense, LSTM\n",
        "import matplotlib.pyplot as plt\n",
        "plt.style.use('fivethirtyeight')"
      ],
      "execution_count": 1,
      "outputs": []
    },
    {
      "cell_type": "code",
      "metadata": {
        "id": "nW4wbnoBWAW4",
        "colab": {
          "base_uri": "https://localhost:8080/",
          "height": 446
        },
        "outputId": "67c4e84a-5039-4436-8af9-6d994e614a5c"
      },
      "source": [
        "df = web.DataReader('PETR4.SA', data_source='yahoo', start='2010-01-01', end='2020-11-01')\n",
        "df"
      ],
      "execution_count": 2,
      "outputs": [
        {
          "output_type": "execute_result",
          "data": {
            "text/html": [
              "<div>\n",
              "<style scoped>\n",
              "    .dataframe tbody tr th:only-of-type {\n",
              "        vertical-align: middle;\n",
              "    }\n",
              "\n",
              "    .dataframe tbody tr th {\n",
              "        vertical-align: top;\n",
              "    }\n",
              "\n",
              "    .dataframe thead th {\n",
              "        text-align: right;\n",
              "    }\n",
              "</style>\n",
              "<table border=\"1\" class=\"dataframe\">\n",
              "  <thead>\n",
              "    <tr style=\"text-align: right;\">\n",
              "      <th></th>\n",
              "      <th>High</th>\n",
              "      <th>Low</th>\n",
              "      <th>Open</th>\n",
              "      <th>Close</th>\n",
              "      <th>Volume</th>\n",
              "      <th>Adj Close</th>\n",
              "    </tr>\n",
              "    <tr>\n",
              "      <th>Date</th>\n",
              "      <th></th>\n",
              "      <th></th>\n",
              "      <th></th>\n",
              "      <th></th>\n",
              "      <th></th>\n",
              "      <th></th>\n",
              "    </tr>\n",
              "  </thead>\n",
              "  <tbody>\n",
              "    <tr>\n",
              "      <th>2010-01-04</th>\n",
              "      <td>37.320000</td>\n",
              "      <td>36.820000</td>\n",
              "      <td>36.950001</td>\n",
              "      <td>37.320000</td>\n",
              "      <td>13303600.0</td>\n",
              "      <td>29.089407</td>\n",
              "    </tr>\n",
              "    <tr>\n",
              "      <th>2010-01-05</th>\n",
              "      <td>37.430000</td>\n",
              "      <td>36.799999</td>\n",
              "      <td>37.380001</td>\n",
              "      <td>37.000000</td>\n",
              "      <td>21396400.0</td>\n",
              "      <td>28.839991</td>\n",
              "    </tr>\n",
              "    <tr>\n",
              "      <th>2010-01-06</th>\n",
              "      <td>37.500000</td>\n",
              "      <td>36.799999</td>\n",
              "      <td>36.799999</td>\n",
              "      <td>37.500000</td>\n",
              "      <td>18720600.0</td>\n",
              "      <td>29.229712</td>\n",
              "    </tr>\n",
              "    <tr>\n",
              "      <th>2010-01-07</th>\n",
              "      <td>37.450001</td>\n",
              "      <td>37.070000</td>\n",
              "      <td>37.270000</td>\n",
              "      <td>37.150002</td>\n",
              "      <td>10964600.0</td>\n",
              "      <td>28.956902</td>\n",
              "    </tr>\n",
              "    <tr>\n",
              "      <th>2010-01-08</th>\n",
              "      <td>37.389999</td>\n",
              "      <td>36.860001</td>\n",
              "      <td>37.160000</td>\n",
              "      <td>36.950001</td>\n",
              "      <td>14624200.0</td>\n",
              "      <td>28.801014</td>\n",
              "    </tr>\n",
              "    <tr>\n",
              "      <th>...</th>\n",
              "      <td>...</td>\n",
              "      <td>...</td>\n",
              "      <td>...</td>\n",
              "      <td>...</td>\n",
              "      <td>...</td>\n",
              "      <td>...</td>\n",
              "    </tr>\n",
              "    <tr>\n",
              "      <th>2020-10-26</th>\n",
              "      <td>20.530001</td>\n",
              "      <td>20.030001</td>\n",
              "      <td>20.330000</td>\n",
              "      <td>20.250000</td>\n",
              "      <td>58229100.0</td>\n",
              "      <td>20.250000</td>\n",
              "    </tr>\n",
              "    <tr>\n",
              "      <th>2020-10-27</th>\n",
              "      <td>20.370001</td>\n",
              "      <td>19.809999</td>\n",
              "      <td>20.260000</td>\n",
              "      <td>19.879999</td>\n",
              "      <td>48978400.0</td>\n",
              "      <td>19.879999</td>\n",
              "    </tr>\n",
              "    <tr>\n",
              "      <th>2020-10-28</th>\n",
              "      <td>19.440001</td>\n",
              "      <td>18.670000</td>\n",
              "      <td>19.350000</td>\n",
              "      <td>18.670000</td>\n",
              "      <td>79247400.0</td>\n",
              "      <td>18.670000</td>\n",
              "    </tr>\n",
              "    <tr>\n",
              "      <th>2020-10-29</th>\n",
              "      <td>19.370001</td>\n",
              "      <td>17.740000</td>\n",
              "      <td>18.430000</td>\n",
              "      <td>19.290001</td>\n",
              "      <td>86794800.0</td>\n",
              "      <td>19.290001</td>\n",
              "    </tr>\n",
              "    <tr>\n",
              "      <th>2020-10-30</th>\n",
              "      <td>19.540001</td>\n",
              "      <td>18.870001</td>\n",
              "      <td>19.139999</td>\n",
              "      <td>18.940001</td>\n",
              "      <td>64185100.0</td>\n",
              "      <td>18.940001</td>\n",
              "    </tr>\n",
              "  </tbody>\n",
              "</table>\n",
              "<p>2686 rows × 6 columns</p>\n",
              "</div>"
            ],
            "text/plain": [
              "                 High        Low       Open      Close      Volume  Adj Close\n",
              "Date                                                                         \n",
              "2010-01-04  37.320000  36.820000  36.950001  37.320000  13303600.0  29.089407\n",
              "2010-01-05  37.430000  36.799999  37.380001  37.000000  21396400.0  28.839991\n",
              "2010-01-06  37.500000  36.799999  36.799999  37.500000  18720600.0  29.229712\n",
              "2010-01-07  37.450001  37.070000  37.270000  37.150002  10964600.0  28.956902\n",
              "2010-01-08  37.389999  36.860001  37.160000  36.950001  14624200.0  28.801014\n",
              "...               ...        ...        ...        ...         ...        ...\n",
              "2020-10-26  20.530001  20.030001  20.330000  20.250000  58229100.0  20.250000\n",
              "2020-10-27  20.370001  19.809999  20.260000  19.879999  48978400.0  19.879999\n",
              "2020-10-28  19.440001  18.670000  19.350000  18.670000  79247400.0  18.670000\n",
              "2020-10-29  19.370001  17.740000  18.430000  19.290001  86794800.0  19.290001\n",
              "2020-10-30  19.540001  18.870001  19.139999  18.940001  64185100.0  18.940001\n",
              "\n",
              "[2686 rows x 6 columns]"
            ]
          },
          "metadata": {
            "tags": []
          },
          "execution_count": 2
        }
      ]
    },
    {
      "cell_type": "code",
      "metadata": {
        "id": "0zhhs-U8X9Ym",
        "colab": {
          "base_uri": "https://localhost:8080/"
        },
        "outputId": "66edcfc4-646c-4f3e-ba7d-07317279a797"
      },
      "source": [
        "#get the number of rows and columns in the data set\n",
        "df.shape"
      ],
      "execution_count": 3,
      "outputs": [
        {
          "output_type": "execute_result",
          "data": {
            "text/plain": [
              "(2686, 6)"
            ]
          },
          "metadata": {
            "tags": []
          },
          "execution_count": 3
        }
      ]
    },
    {
      "cell_type": "code",
      "metadata": {
        "id": "Cdpc-J_HYRCl",
        "colab": {
          "base_uri": "https://localhost:8080/",
          "height": 518
        },
        "outputId": "11b43364-8aed-40a3-c8cb-76907d122c35"
      },
      "source": [
        "#Visualize the closing price history\n",
        "plt.figure(figsize=(16,8))\n",
        "plt.title('Close Price History')\n",
        "plt.plot(df['Close'])\n",
        "plt.xlabel('Data', fontsize=18)\n",
        "plt.ylabel('Close Price USD ($)', fontsize=18)\n",
        "plt.show()"
      ],
      "execution_count": 4,
      "outputs": [
        {
          "output_type": "display_data",
          "data": {
            "image/png": "[encoded data removed]",
            "text/plain": [
              "<Figure size 1152x576 with 1 Axes>"
            ]
          },
          "metadata": {
            "tags": [],
            "needs_background": "light"
          }
        }
      ]
    },
    {
      "cell_type": "code",
      "metadata": {
        "id": "YKnkhDsyY8yg",
        "colab": {
          "base_uri": "https://localhost:8080/"
        },
        "outputId": "2bf3ddf0-8fe5-4d0e-d92a-f1a965280d0b"
      },
      "source": [
        "# Create a new dataframe with only the Close Column\n",
        "data = df.filter(['Close'])\n",
        "# Convert the dataframe to a numpy array\n",
        "dataset = data.values\n",
        "# Get the number of rows to train the model on\n",
        "training_data_len = math.ceil(len(dataset) * .8)\n",
        "training_data_len"
      ],
      "execution_count": 5,
      "outputs": [
        {
          "output_type": "execute_result",
          "data": {
            "text/plain": [
              "2149"
            ]
          },
          "metadata": {
            "tags": []
          },
          "execution_count": 5
        }
      ]
    },
    {
      "cell_type": "code",
      "metadata": {
        "id": "2YDU0G0lZwl9",
        "colab": {
          "base_uri": "https://localhost:8080/"
        },
        "outputId": "0d1c6076-cfce-4c50-a8f8-39da2c012367"
      },
      "source": [
        "# Scale the data\n",
        "scaler = MinMaxScaler(feature_range=(0,1))\n",
        "scaled_data = scaler.fit_transform(dataset)\n",
        "scaled_data"
      ],
      "execution_count": 6,
      "outputs": [
        {
          "output_type": "execute_result",
          "data": {
            "text/plain": [
              "array([[0.99459459],\n",
              "       [0.98498499],\n",
              "       [1.        ],\n",
              "       ...,\n",
              "       [0.43453454],\n",
              "       [0.45315318],\n",
              "       [0.44264266]])"
            ]
          },
          "metadata": {
            "tags": []
          },
          "execution_count": 6
        }
      ]
    },
    {
      "cell_type": "code",
      "metadata": {
        "id": "L96ZgjefaUxv",
        "colab": {
          "base_uri": "https://localhost:8080/"
        },
        "outputId": "a0bdd7c9-d395-493c-b6a8-7c146121513c"
      },
      "source": [
        "# Create the training data set\n",
        "# Create the scaled training data set\n",
        "train_data = scaled_data[0:training_data_len, :]\n",
        "#Split the data into x_train and y_train data sets\n",
        "x_train = []\n",
        "y_train = []\n",
        "for i in range(60, len(train_data)):\n",
        "  x_train.append(train_data[i-60:i, 0])\n",
        "  y_train.append(train_data[i, 0])\n",
        "  if i<=61:\n",
        "    print(x_train)\n",
        "    print(y_train)\n",
        "    print()"
      ],
      "execution_count": 7,
      "outputs": [
        {
          "output_type": "stream",
          "text": [
            "[array([0.99459459, 0.98498499, 1.        , 0.98948954, 0.98348351,\n",
            "       0.97987993, 0.96576578, 0.96396394, 0.94504499, 0.94744745,\n",
            "       0.97147145, 0.9663664 , 0.93843846, 0.90480486, 0.91741742,\n",
            "       0.89189194, 0.89819822, 0.91321323, 0.89999995, 0.90390388,\n",
            "       0.89789785, 0.89609612, 0.84384382, 0.82042044, 0.82702702,\n",
            "       0.84204209, 0.85405404, 0.87567569, 0.88888887, 0.9024024 ,\n",
            "       0.91561557, 0.90540536, 0.91441446, 0.90060056, 0.89309305,\n",
            "       0.90630634, 0.91321323, 0.92282283, 0.9285285 , 0.92942948,\n",
            "       0.93093095, 0.94924929, 0.94594597, 0.96996997, 0.98498499,\n",
            "       0.98648646, 0.98678683, 0.97807809, 0.99129126, 0.98948954,\n",
            "       0.9855856 , 0.96186185, 0.96216221, 0.94954954, 0.95765766,\n",
            "       0.93093095, 0.90990991, 0.92192197, 0.9189189 , 0.93663662])]\n",
            "[0.9474474477484566]\n",
            "\n",
            "[array([0.99459459, 0.98498499, 1.        , 0.98948954, 0.98348351,\n",
            "       0.97987993, 0.96576578, 0.96396394, 0.94504499, 0.94744745,\n",
            "       0.97147145, 0.9663664 , 0.93843846, 0.90480486, 0.91741742,\n",
            "       0.89189194, 0.89819822, 0.91321323, 0.89999995, 0.90390388,\n",
            "       0.89789785, 0.89609612, 0.84384382, 0.82042044, 0.82702702,\n",
            "       0.84204209, 0.85405404, 0.87567569, 0.88888887, 0.9024024 ,\n",
            "       0.91561557, 0.90540536, 0.91441446, 0.90060056, 0.89309305,\n",
            "       0.90630634, 0.91321323, 0.92282283, 0.9285285 , 0.92942948,\n",
            "       0.93093095, 0.94924929, 0.94594597, 0.96996997, 0.98498499,\n",
            "       0.98648646, 0.98678683, 0.97807809, 0.99129126, 0.98948954,\n",
            "       0.9855856 , 0.96186185, 0.96216221, 0.94954954, 0.95765766,\n",
            "       0.93093095, 0.90990991, 0.92192197, 0.9189189 , 0.93663662]), array([0.98498499, 1.        , 0.98948954, 0.98348351, 0.97987993,\n",
            "       0.96576578, 0.96396394, 0.94504499, 0.94744745, 0.97147145,\n",
            "       0.9663664 , 0.93843846, 0.90480486, 0.91741742, 0.89189194,\n",
            "       0.89819822, 0.91321323, 0.89999995, 0.90390388, 0.89789785,\n",
            "       0.89609612, 0.84384382, 0.82042044, 0.82702702, 0.84204209,\n",
            "       0.85405404, 0.87567569, 0.88888887, 0.9024024 , 0.91561557,\n",
            "       0.90540536, 0.91441446, 0.90060056, 0.89309305, 0.90630634,\n",
            "       0.91321323, 0.92282283, 0.9285285 , 0.92942948, 0.93093095,\n",
            "       0.94924929, 0.94594597, 0.96996997, 0.98498499, 0.98648646,\n",
            "       0.98678683, 0.97807809, 0.99129126, 0.98948954, 0.9855856 ,\n",
            "       0.96186185, 0.96216221, 0.94954954, 0.95765766, 0.93093095,\n",
            "       0.90990991, 0.92192197, 0.9189189 , 0.93663662, 0.94744745])]\n",
            "[0.9474474477484566, 0.9552552051071349]\n",
            "\n"
          ],
          "name": "stdout"
        }
      ]
    },
    {
      "cell_type": "code",
      "metadata": {
        "id": "Ob6zjtUTbKE3"
      },
      "source": [
        "#Convert the x_train and y_train to numpy arrays\n",
        "x_train, y_train = np.array(x_train), np.array(y_train)"
      ],
      "execution_count": 8,
      "outputs": []
    },
    {
      "cell_type": "code",
      "metadata": {
        "id": "an5dsbH4bx40",
        "colab": {
          "base_uri": "https://localhost:8080/"
        },
        "outputId": "5bf5aae7-f48c-452a-e879-8eddc8e8ba2b"
      },
      "source": [
        "#Reshape the data\n",
        "x_train = np.reshape(x_train, (x_train.shape[0], x_train.shape[1], 1))\n",
        "x_train.shape"
      ],
      "execution_count": 9,
      "outputs": [
        {
          "output_type": "execute_result",
          "data": {
            "text/plain": [
              "(2089, 60, 1)"
            ]
          },
          "metadata": {
            "tags": []
          },
          "execution_count": 9
        }
      ]
    },
    {
      "cell_type": "code",
      "metadata": {
        "id": "0OK-KHIJcnKV"
      },
      "source": [
        "#build the LSTM model\n",
        "model = Sequential()\n",
        "model.add(LSTM(50, return_sequences=True, input_shape = (x_train.shape[1], 1)))\n",
        "model.add(LSTM(50, return_sequences=False))\n",
        "model.add(Dense(25))\n",
        "model.add(Dense(1))"
      ],
      "execution_count": 10,
      "outputs": []
    },
    {
      "cell_type": "code",
      "metadata": {
        "id": "mZqybCsqdTsO"
      },
      "source": [
        "#compile the model\n",
        "model.compile(optimizer='Adam', loss='mean_squared_error')"
      ],
      "execution_count": 11,
      "outputs": []
    },
    {
      "cell_type": "code",
      "metadata": {
        "id": "XZVCpZnJdf5u",
        "colab": {
          "base_uri": "https://localhost:8080/"
        },
        "outputId": "1b85655e-5d18-4779-feb8-3fc1ef4b2e2f"
      },
      "source": [
        "#Train the model\n",
        "model.fit(x_train, y_train, batch_size=1, epochs=1)"
      ],
      "execution_count": 12,
      "outputs": [
        {
          "output_type": "stream",
          "text": [
            "2089/2089 [==============================] - 48s 22ms/step - loss: 0.0032\n"
          ],
          "name": "stdout"
        },
        {
          "output_type": "execute_result",
          "data": {
            "text/plain": [
              "<tensorflow.python.keras.callbacks.History at 0x7f31c61ae908>"
            ]
          },
          "metadata": {
            "tags": []
          },
          "execution_count": 12
        }
      ]
    },
    {
      "cell_type": "code",
      "metadata": {
        "id": "zx6tVNr8ebo9"
      },
      "source": [
        "# Create the testing data set\n",
        "#create a new array containing scaled values from index 1718 to end\n",
        "test_data = scaled_data[training_data_len - 60: , :]\n",
        "# create the data sets x_test and y_test\n",
        "x_test = []\n",
        "y_test = dataset[training_data_len:, :]\n",
        "for i in range(60, len(test_data)):\n",
        "  x_test.append(test_data[i-60:i, 0])\n"
      ],
      "execution_count": 13,
      "outputs": []
    },
    {
      "cell_type": "code",
      "metadata": {
        "id": "t5g2icpnfVwP"
      },
      "source": [
        "# Convert the data to a numpy array\n",
        "x_test = np.array(x_test)\n"
      ],
      "execution_count": 14,
      "outputs": []
    },
    {
      "cell_type": "code",
      "metadata": {
        "id": "3uY084u4flm9"
      },
      "source": [
        "#Reshape the data\n",
        "x_test = np.reshape(x_test, (x_test.shape[0], x_test.shape[1], 1))"
      ],
      "execution_count": 15,
      "outputs": []
    },
    {
      "cell_type": "code",
      "metadata": {
        "id": "4MSxeFcTf7cN"
      },
      "source": [
        "#Get the models predicted price values\n",
        "predictions = model.predict(x_test)\n",
        "predictions = scaler.inverse_transform(predictions)"
      ],
      "execution_count": 16,
      "outputs": []
    },
    {
      "cell_type": "code",
      "metadata": {
        "id": "YDJmF6u7gWld",
        "colab": {
          "base_uri": "https://localhost:8080/"
        },
        "outputId": "4aa81327-61bf-4396-d83d-6286a71d160b"
      },
      "source": [
        "#Get the root mean squared error (RMSE)\n",
        "rmse = np.sqrt(np.mean(((predictions - y_test)**2)))\n",
        "rmse"
      ],
      "execution_count": 17,
      "outputs": [
        {
          "output_type": "execute_result",
          "data": {
            "text/plain": [
              "1.1362053213370862"
            ]
          },
          "metadata": {
            "tags": []
          },
          "execution_count": 17
        }
      ]
    },
    {
      "cell_type": "code",
      "metadata": {
        "id": "kbS7eGu0g_yF",
        "colab": {
          "base_uri": "https://localhost:8080/",
          "height": 622
        },
        "outputId": "960198c1-bd6f-46b2-ef24-eb0515efeaed"
      },
      "source": [
        "#Plot the data\n",
        "train = data[:training_data_len]\n",
        "valid = data[training_data_len:]\n",
        "valid['Predictions'] = predictions\n",
        "#visualize the data\n",
        "plt.figure(figsize=(16,8))\n",
        "plt.title('Model')\n",
        "plt.xlabel('Date', fontsize=18)\n",
        "plt.ylabel('Close Price USD ($', fontsize=18)\n",
        "plt.plot(train['Close'])\n",
        "plt.plot(valid[['Close', 'Predictions']])\n",
        "plt.legend(['Train', 'Val', 'Predictions'], loc='lower right')\n",
        "plt.show()"
      ],
      "execution_count": 18,
      "outputs": [
        {
          "output_type": "stream",
          "text": [
            "/usr/local/lib/python3.6/dist-packages/ipykernel_launcher.py:4: SettingWithCopyWarning: \n",
            "A value is trying to be set on a copy of a slice from a DataFrame.\n",
            "Try using .loc[row_indexer,col_indexer] = value instead\n",
            "\n",
            "See the caveats in the documentation: https://pandas.pydata.org/pandas-docs/stable/user_guide/indexing.html#returning-a-view-versus-a-copy\n",
            "  after removing the cwd from sys.path.\n"
          ],
          "name": "stderr"
        },
        {
          "output_type": "display_data",
          "data": {
            "image/png": "[encoded data removed]",
            "text/plain": [
              "<Figure size 1152x576 with 1 Axes>"
            ]
          },
          "metadata": {
            "tags": [],
            "needs_background": "light"
          }
        }
      ]
    },
    {
      "cell_type": "code",
      "metadata": {
        "id": "HO8sX7-VinL5",
        "colab": {
          "base_uri": "https://localhost:8080/",
          "height": 446
        },
        "outputId": "51819409-dec2-4f99-cd3b-a6fadbb534d2"
      },
      "source": [
        "#Show de valid and predicted prices\n",
        "valid"
      ],
      "execution_count": 19,
      "outputs": [
        {
          "output_type": "execute_result",
          "data": {
            "text/html": [
              "<div>\n",
              "<style scoped>\n",
              "    .dataframe tbody tr th:only-of-type {\n",
              "        vertical-align: middle;\n",
              "    }\n",
              "\n",
              "    .dataframe tbody tr th {\n",
              "        vertical-align: top;\n",
              "    }\n",
              "\n",
              "    .dataframe thead th {\n",
              "        text-align: right;\n",
              "    }\n",
              "</style>\n",
              "<table border=\"1\" class=\"dataframe\">\n",
              "  <thead>\n",
              "    <tr style=\"text-align: right;\">\n",
              "      <th></th>\n",
              "      <th>Close</th>\n",
              "      <th>Predictions</th>\n",
              "    </tr>\n",
              "    <tr>\n",
              "      <th>Date</th>\n",
              "      <th></th>\n",
              "      <th></th>\n",
              "    </tr>\n",
              "  </thead>\n",
              "  <tbody>\n",
              "    <tr>\n",
              "      <th>2018-08-28</th>\n",
              "      <td>18.350000</td>\n",
              "      <td>18.928625</td>\n",
              "    </tr>\n",
              "    <tr>\n",
              "      <th>2018-08-29</th>\n",
              "      <td>19.299999</td>\n",
              "      <td>19.031507</td>\n",
              "    </tr>\n",
              "    <tr>\n",
              "      <th>2018-08-30</th>\n",
              "      <td>18.799999</td>\n",
              "      <td>19.305212</td>\n",
              "    </tr>\n",
              "    <tr>\n",
              "      <th>2018-08-31</th>\n",
              "      <td>19.260000</td>\n",
              "      <td>19.488121</td>\n",
              "    </tr>\n",
              "    <tr>\n",
              "      <th>2018-09-03</th>\n",
              "      <td>19.000000</td>\n",
              "      <td>19.694498</td>\n",
              "    </tr>\n",
              "    <tr>\n",
              "      <th>...</th>\n",
              "      <td>...</td>\n",
              "      <td>...</td>\n",
              "    </tr>\n",
              "    <tr>\n",
              "      <th>2020-10-26</th>\n",
              "      <td>20.250000</td>\n",
              "      <td>21.057236</td>\n",
              "    </tr>\n",
              "    <tr>\n",
              "      <th>2020-10-27</th>\n",
              "      <td>19.879999</td>\n",
              "      <td>21.140219</td>\n",
              "    </tr>\n",
              "    <tr>\n",
              "      <th>2020-10-28</th>\n",
              "      <td>18.670000</td>\n",
              "      <td>21.064665</td>\n",
              "    </tr>\n",
              "    <tr>\n",
              "      <th>2020-10-29</th>\n",
              "      <td>19.290001</td>\n",
              "      <td>20.671221</td>\n",
              "    </tr>\n",
              "    <tr>\n",
              "      <th>2020-10-30</th>\n",
              "      <td>18.940001</td>\n",
              "      <td>20.357197</td>\n",
              "    </tr>\n",
              "  </tbody>\n",
              "</table>\n",
              "<p>537 rows × 2 columns</p>\n",
              "</div>"
            ],
            "text/plain": [
              "                Close  Predictions\n",
              "Date                              \n",
              "2018-08-28  18.350000    18.928625\n",
              "2018-08-29  19.299999    19.031507\n",
              "2018-08-30  18.799999    19.305212\n",
              "2018-08-31  19.260000    19.488121\n",
              "2018-09-03  19.000000    19.694498\n",
              "...               ...          ...\n",
              "2020-10-26  20.250000    21.057236\n",
              "2020-10-27  19.879999    21.140219\n",
              "2020-10-28  18.670000    21.064665\n",
              "2020-10-29  19.290001    20.671221\n",
              "2020-10-30  18.940001    20.357197\n",
              "\n",
              "[537 rows x 2 columns]"
            ]
          },
          "metadata": {
            "tags": []
          },
          "execution_count": 19
        }
      ]
    },
    {
      "cell_type": "code",
      "metadata": {
        "id": "J-fR_6QtutiH",
        "colab": {
          "base_uri": "https://localhost:8080/"
        },
        "outputId": "77a822ed-8db0-4267-f7f3-6f03c7d9fe24"
      },
      "source": [
        "from google.colab import drive\n",
        "drive.mount('/content/drive')"
      ],
      "execution_count": null,
      "outputs": [
        {
          "output_type": "stream",
          "text": [
            "Mounted at /content/drive\n"
          ],
          "name": "stdout"
        }
      ]
    },
    {
      "cell_type": "code",
      "metadata": {
        "id": "Rek1eKThuV34",
        "colab": {
          "base_uri": "https://localhost:8080/"
        },
        "outputId": "9d26c558-69c9-47ab-a82a-6e0c3545c5f2"
      },
      "source": [
        "model.save('/content/drive/My Drive/Stock/TESTE.model')"
      ],
      "execution_count": null,
      "outputs": [
        {
          "output_type": "stream",
          "text": [
            "WARNING:tensorflow:From /usr/local/lib/python3.6/dist-packages/tensorflow/python/training/tracking/tracking.py:111: Model.state_updates (from tensorflow.python.keras.engine.training) is deprecated and will be removed in a future version.\n",
            "Instructions for updating:\n",
            "This property should not be used in TensorFlow 2.0, as updates are applied automatically.\n",
            "WARNING:tensorflow:From /usr/local/lib/python3.6/dist-packages/tensorflow/python/training/tracking/tracking.py:111: Layer.updates (from tensorflow.python.keras.engine.base_layer) is deprecated and will be removed in a future version.\n",
            "Instructions for updating:\n",
            "This property should not be used in TensorFlow 2.0, as updates are applied automatically.\n",
            "INFO:tensorflow:Assets written to: /content/drive/My Drive/Stock/DELL.model/assets\n"
          ],
          "name": "stdout"
        }
      ]
    },
    {
      "cell_type": "code",
      "metadata": {
        "id": "STTVYtiTi3Zt",
        "colab": {
          "base_uri": "https://localhost:8080/"
        },
        "outputId": "ff4f3b27-d9c5-4d29-c747-f2b78af3349c"
      },
      "source": [
        "# Get the quote \n",
        "stock_quote = web.DataReader('AAPL', data_source='yahoo', start='2012-01-01', end='2020-10-30')\n",
        "#Create a new dataframe\n",
        "new_df = stock_quote.filter(['Close'])\n",
        "#Get the last 60 day closing price values and convert tthe dataframe to an array\n",
        "last_60_days = new_df[-60:].values\n",
        "#Scale the data to be value between 0 and 1\n",
        "last_60_days_scaled = scaler.transform(last_60_days)\n",
        "#create an empty list\n",
        "X_test = []\n",
        "#Append the past 60 days \n",
        "X_test.append(last_60_days_scaled)\n",
        "#Convert the X_test data set to a numpy array\n",
        "X_test = np.array(X_test)\n",
        "#Reshape the data\n",
        "X_test = np.reshape(X_test, (X_test.shape[0], X_test.shape[1], 1))\n",
        "#get the predicted scaled price\n",
        "pred_price = model.predict(X_test)\n",
        "#undo the scaling\n",
        "pred_price = scaler.inverse_transform(pred_price)\n",
        "print(pred_price)"
      ],
      "execution_count": 20,
      "outputs": [
        {
          "output_type": "stream",
          "text": [
            "[[91.22192]]\n"
          ],
          "name": "stdout"
        }
      ]
    },
    {
      "cell_type": "code",
      "metadata": {
        "id": "iqtLmM92kZ7p",
        "colab": {
          "base_uri": "https://localhost:8080/"
        },
        "outputId": "163e5acb-3db7-4cd7-fec7-ebc491d96fd8"
      },
      "source": [
        "stock_quote2 = web.DataReader('AAPL', data_source='yahoo', start='2020-10-30', end='2020-10-30')\n",
        "print(stock_quote2['Open'])\n",
        "print(stock_quote2['High'])\n",
        "print(stock_quote2['Low'])\n",
        "print(stock_quote2['Close'])"
      ],
      "execution_count": 21,
      "outputs": [
        {
          "output_type": "stream",
          "text": [
            "Date\n",
            "2020-10-30    111.059998\n",
            "Name: Open, dtype: float64\n",
            "Date\n",
            "2020-10-30    111.989998\n",
            "Name: High, dtype: float64\n",
            "Date\n",
            "2020-10-30    107.720001\n",
            "Name: Low, dtype: float64\n",
            "Date\n",
            "2020-10-30    108.860001\n",
            "Name: Close, dtype: float64\n"
          ],
          "name": "stdout"
        }
      ]
    },
    {
      "cell_type": "code",
      "metadata": {
        "id": "Ff0w_hSPqncB",
        "colab": {
          "base_uri": "https://localhost:8080/"
        },
        "outputId": "538dd3d0-b476-42d6-f271-5c7b6c8bb80a"
      },
      "source": [
        "openValue = stock_quote2['Open'][0]\n",
        "for price in pred_price:\n",
        "  variation = price-openValue\n",
        "  print(variation)\n",
        "  if price > openValue and abs(variation) > 0.8:\n",
        "    print('Compra')\n",
        "  elif price > openValue and abs(variation) < 0.8:\n",
        "    print('Nada')\n",
        "  elif price < openValue and abs(variation) > 0.8:\n",
        "    print('Venda')\n",
        "  elif price < openValue and abs(variation) < 0.8: \n",
        "    print('Nada')"
      ],
      "execution_count": 22,
      "outputs": [
        {
          "output_type": "stream",
          "text": [
            "[-19.838081]\n",
            "Venda\n"
          ],
          "name": "stdout"
        }
      ]
    }
  ]
}